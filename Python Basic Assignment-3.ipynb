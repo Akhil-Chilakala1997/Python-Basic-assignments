{
 "cells": [
  {
   "cell_type": "markdown",
   "metadata": {},
   "source": [
    "# Basic Assignment 3"
   ]
  },
  {
   "cell_type": "code",
   "execution_count": null,
   "metadata": {},
   "outputs": [],
   "source": [
    "1. Why are functions advantageous to have in your programs?\n",
    "# functions can be  used in our programe  to make our code  simple and readble.it allows  us to  reduce \n",
    "# the repetitive  lines of code.For example  if you  want to  perform  some lines of code  repeatedly  you  can put those\n",
    "# line inside the  function  and just  call the function  whenever required.so  this makes code  simpler and easier and \n",
    "# saves the time and effort to the programmers \n",
    "\n",
    "\n",
    "2.When does the code in a function run: when it's specified or when it's called?\n",
    "#The code in function  runs  when  it is called\n",
    "\n",
    "3.What statement creates a function?\n",
    "# def func_name:\n",
    "    #statements\n",
    "    \n",
    "    \n",
    "4.What is the difference between a function and a function call?\n",
    "# A function when  it is defined  tell  us what  it is going to  perform so  this part is\n",
    "# called functon defintion .function  call is used to  call  the function when it is required so  when\n",
    "# we call  the function  the control  search  for function  def and perform  the action  according\n",
    "# to the definiton  inside  the function.\n",
    "\n",
    "5. How many global scopes are there in a Python program? How many local scopes?\n",
    "# we have four types of scopes in python:\n",
    "#     Local\n",
    "#     Enclosing(non-local)\n",
    "#     global\n",
    "#     built-in\n",
    "\n",
    "6. What happens to variables in a local scope when the function call returns?\n",
    "# A local scope is created whenever a function is called. Any variables assigned in this \n",
    "# function exist within the local scope. When the function returns, the local scope is destroyed, \n",
    "# and these variables are forgotten.\n",
    "\n",
    "7.What is the concept of a return value? Is it possible to have a return value in an expression?\n",
    "# After performing some actions on variables the result can be passed to  function call  through return \n",
    "# statement which a variable is used to  catch  it.we can also  have expression in return statement.\n",
    "8.If a function does not have a return statement, what is the return value of a call to that function?\n",
    "# None\n",
    "9.How do you make a function variable refer to the global variable?\n",
    "#just declare Global keyword infront of that variable\n",
    "10.What is the data type of None?\n",
    "# class Nonetype\n",
    "12.If you had a bacon() feature in a spam module, what would you call it after importing spam?\n",
    "# import  spam  as sp\n",
    "# z = sp.bacon()\n",
    "13.What can you do to save a programme from crashing if it encounters an error?\n",
    "#In order to  encounter this we use try ,except  block  in  python\n",
    "14.What is the purpose of the try clause? What is the purpose of the except clause?\n",
    "#try  clause is use to write our code .if try  clause encounter the  error  ,except clause catch it\n",
    "#and we put the statement inside the except for rectifying error."
   ]
  },
  {
   "cell_type": "code",
   "execution_count": null,
   "metadata": {},
   "outputs": [],
   "source": []
  }
 ],
 "metadata": {
  "kernelspec": {
   "display_name": "Python 3",
   "language": "python",
   "name": "python3"
  },
  "language_info": {
   "codemirror_mode": {
    "name": "ipython",
    "version": 3
   },
   "file_extension": ".py",
   "mimetype": "text/x-python",
   "name": "python",
   "nbconvert_exporter": "python",
   "pygments_lexer": "ipython3",
   "version": "3.8.5"
  }
 },
 "nbformat": 4,
 "nbformat_minor": 4
}
