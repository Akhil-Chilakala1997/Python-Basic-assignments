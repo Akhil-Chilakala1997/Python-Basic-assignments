{
 "cells": [
  {
   "cell_type": "markdown",
   "metadata": {},
   "source": [
    "# Programming_Assingment1(Basic)"
   ]
  },
  {
   "cell_type": "markdown",
   "metadata": {},
   "source": [
    "# Write a Python program to print \"Hello Python\"?"
   ]
  },
  {
   "cell_type": "code",
   "execution_count": 1,
   "metadata": {},
   "outputs": [
    {
     "name": "stdout",
     "output_type": "stream",
     "text": [
      "Hello Python\n"
     ]
    }
   ],
   "source": [
    "print('Hello Python')"
   ]
  },
  {
   "cell_type": "markdown",
   "metadata": {},
   "source": [
    "# 2.Write a Python program to do arithmetical operations addition and division.?\n"
   ]
  },
  {
   "cell_type": "code",
   "execution_count": 2,
   "metadata": {},
   "outputs": [
    {
     "name": "stdout",
     "output_type": "stream",
     "text": [
      "enter the first value 6\n",
      "enter the  second value3\n",
      "9 >> this is addition\n",
      "2.0 >> this is divison\n"
     ]
    }
   ],
   "source": [
    "a = int(input('enter the first value '))\n",
    "b=int(input('enter the  second value'))\n",
    "\n",
    "print(a+b,'>> this is addition')\n",
    "print(a/b,'>> this is divison')"
   ]
  },
  {
   "cell_type": "markdown",
   "metadata": {},
   "source": [
    "# 3.Write a Python program to find the area of a triangle?"
   ]
  },
  {
   "cell_type": "code",
   "execution_count": 4,
   "metadata": {},
   "outputs": [
    {
     "name": "stdout",
     "output_type": "stream",
     "text": [
      "enter the value  of lenghth6\n",
      "enter the value of breadth3\n",
      "9.0 << this is the area of given  traingle\n"
     ]
    }
   ],
   "source": [
    "length = int(input ('enter the value  of lenghth'))\n",
    "breadth = int(input('enter the value of breadth'))\n",
    "area = (length*breadth)/2\n",
    "print(area,'<< this is the area of given  traingle')\n"
   ]
  },
  {
   "cell_type": "markdown",
   "metadata": {},
   "source": [
    "# 4.Write a Python program to swap two variables?\n"
   ]
  },
  {
   "cell_type": "code",
   "execution_count": 5,
   "metadata": {},
   "outputs": [
    {
     "name": "stdout",
     "output_type": "stream",
     "text": [
      "enter the value for a:5\n",
      "enter the value  for b:6\n",
      "value of a after swaping:  6\n",
      "value of b after swaping:  5\n"
     ]
    }
   ],
   "source": [
    "a =  int(input('enter the value for a:'))\n",
    "b = int(input('enter the value  for b:'))\n",
    "\n",
    "a,b = b,a\n",
    "\n",
    "print('value of a after swaping: ',a)\n",
    "print('value of b after swaping: ',b)\n",
    "\n"
   ]
  },
  {
   "cell_type": "markdown",
   "metadata": {},
   "source": [
    "# 5.Write a Python program to generate a random number?"
   ]
  },
  {
   "cell_type": "code",
   "execution_count": 7,
   "metadata": {},
   "outputs": [
    {
     "name": "stdout",
     "output_type": "stream",
     "text": [
      "enter the lower limit of the range2\n",
      "enter the upper limit of the range11\n",
      "4\n"
     ]
    }
   ],
   "source": [
    "import random\n",
    "\n",
    "a = int(input('enter the lower limit of the range')) \n",
    "b = int(input('enter the upper limit of the range'))\n",
    "print(random.randint(a,b))"
   ]
  },
  {
   "cell_type": "code",
   "execution_count": null,
   "metadata": {},
   "outputs": [],
   "source": []
  }
 ],
 "metadata": {
  "kernelspec": {
   "display_name": "Python 3",
   "language": "python",
   "name": "python3"
  },
  "language_info": {
   "codemirror_mode": {
    "name": "ipython",
    "version": 3
   },
   "file_extension": ".py",
   "mimetype": "text/x-python",
   "name": "python",
   "nbconvert_exporter": "python",
   "pygments_lexer": "ipython3",
   "version": "3.8.5"
  }
 },
 "nbformat": 4,
 "nbformat_minor": 4
}
