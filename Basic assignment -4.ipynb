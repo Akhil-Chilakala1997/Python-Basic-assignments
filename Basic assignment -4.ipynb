{
 "cells": [
  {
   "cell_type": "markdown",
   "metadata": {},
   "source": [
    "# Basic Assignment 4\n"
   ]
  },
  {
   "cell_type": "markdown",
   "metadata": {},
   "source": [
    "# 1. What exactly is []?\n",
    "\n",
    "A.This represnts an empty list"
   ]
  },
  {
   "cell_type": "markdown",
   "metadata": {},
   "source": [
    "# 2. In a list of values stored in a variable called spam, how would you assign the\n",
    "value 'hello' as the third value? (Assume [2, 4, 6, 8, 10] are in spam.)\n",
    "A.spam[2] = 'hello'"
   ]
  },
  {
   "cell_type": "markdown",
   "metadata": {},
   "source": [
    "# Let's pretend the spam includes the list ['a', 'b', 'c', 'd'] for the next three queries."
   ]
  },
  {
   "cell_type": "markdown",
   "metadata": {},
   "source": [
    "# 3. What is the value of spam[int(int('3' * 2) / 11)]?\n",
    "A.d\n"
   ]
  },
  {
   "cell_type": "markdown",
   "metadata": {},
   "source": [
    "# 4. What is the value of spam[-1]?\n",
    "A.d"
   ]
  },
  {
   "cell_type": "markdown",
   "metadata": {},
   "source": [
    "# 5. What is the value of spam[:2]?\n",
    "A.['a','b']\n"
   ]
  },
  {
   "cell_type": "code",
   "execution_count": 7,
   "metadata": {},
   "outputs": [
    {
     "name": "stdout",
     "output_type": "stream",
     "text": [
      "[3.14, 11, 'cat', True, 99]\n"
     ]
    }
   ],
   "source": [
    "bacon = [3.14, 'cat', 11, 'cat', True]\n",
    "bacon.append(99)\n",
    "bacon.remove('cat')\n",
    "print(bacon)"
   ]
  },
  {
   "cell_type": "markdown",
   "metadata": {},
   "source": [
    "# Let's pretend bacon has the list [3.14, 'cat,' 11, 'cat,' True] for the next three questions."
   ]
  },
  {
   "cell_type": "markdown",
   "metadata": {},
   "source": [
    "# 6. What is the value of bacon.index('cat')?\n",
    "A.1"
   ]
  },
  {
   "cell_type": "markdown",
   "metadata": {},
   "source": [
    "# 7. How does bacon.append(99) change the look of the list value in bacon?\n",
    "A.[3.14, 'cat,' 11, 'cat,' True,99] "
   ]
  },
  {
   "cell_type": "markdown",
   "metadata": {},
   "source": [
    "# 8. How does bacon.remove('cat') change the look of the list in bacon?\n",
    "A.[3.14,11, 'cat,' True,99]"
   ]
  },
  {
   "cell_type": "markdown",
   "metadata": {},
   "source": [
    "# 9. What are the list concatenation and list replication operators?\n",
    "\n",
    "list conacation operators :\n",
    "for ex we have list 1 = [1,2,3]\n",
    "list 2 = [4,5,6]\n",
    "list 1 + list 2 = [1,2,3,4,5,6]\n",
    "the above operation is called list concatenation\n",
    "\n",
    "list replication:\n",
    "for ex i hav list1 = [1,2]\n",
    "and b = 2\n",
    "list 2 = list1*b\n",
    "then list2 gives me [1,2,1,2] this is  called list replication"
   ]
  },
  {
   "cell_type": "markdown",
   "metadata": {},
   "source": [
    "# 10. What is difference between the list methods append() and insert()?\n",
    "\n",
    "A)Both  were inbuilt methods of list ,append will  add the element at the end of the list and insert  will  add the element at specifed  index"
   ]
  },
  {
   "cell_type": "markdown",
   "metadata": {},
   "source": [
    "# 11. What are the two methods for removing items from a list?\n",
    "\n",
    "pop(),remove()"
   ]
  },
  {
   "cell_type": "markdown",
   "metadata": {},
   "source": [
    "# 12. Describe how list values and string values are identical.\n",
    "list values and string values can be acccessed through  indexing and slicing  is possible with  both  data types"
   ]
  },
  {
   "cell_type": "markdown",
   "metadata": {},
   "source": [
    "# 13. What's the difference between tuples and lists?\n",
    "tuples  are immutable where as list  are mutable."
   ]
  },
  {
   "cell_type": "markdown",
   "metadata": {},
   "source": [
    "# 14. How do you type a tuple value that only contains the integer 42?\n",
    "\n",
    "t = tuple([42])  or \n",
    "t = (42,)"
   ]
  },
  {
   "cell_type": "markdown",
   "metadata": {},
   "source": [
    "# 15. How do you get a list value's tuple form? How do you get a tuple value's list form\n",
    "l = [1,2,3]\n",
    "print(tuple(l)) -- achieving list value's to tuple by type casting\n",
    "t = (1,2,3)\n",
    "print(list(t)) -- achieving tuple value's to list by type casting\n"
   ]
  },
  {
   "cell_type": "markdown",
   "metadata": {},
   "source": [
    "# 16. Variables that \"contain\" list values are not necessarily lists themselves. Instead, what do they contain?\n"
   ]
  },
  {
   "cell_type": "markdown",
   "metadata": {},
   "source": [
    "# 17. How do you distinguish between copy.copy() and copy.deepcopy()?\n",
    "\n",
    "if you are performing these methods with flat list,the  functionality  is same and u get same result.\n",
    "but in case of nested list deep copy  performs copying operation without any  changes to original list\n",
    "for ex:\n",
    "\n",
    "import copy\n",
    "\n",
    "list1 = [[1,2,3],[4,5,6]]\n",
    "list2 = copy.deepcopy(list1)\n",
    "print(list1)\n",
    "print(list2)\n",
    "list2[0][1] = 4\n",
    "print(list2)\n",
    "print(list1)\n",
    "\n",
    "the above  example shows if we wants to use deep copy u need to imprt copy and deep copy  doesnt allow  to change the elements of nested list when u try to change for the copied list"
   ]
  },
  {
   "cell_type": "code",
   "execution_count": null,
   "metadata": {},
   "outputs": [],
   "source": []
  },
  {
   "cell_type": "code",
   "execution_count": null,
   "metadata": {},
   "outputs": [],
   "source": []
  }
 ],
 "metadata": {
  "kernelspec": {
   "display_name": "Python 3",
   "language": "python",
   "name": "python3"
  },
  "language_info": {
   "codemirror_mode": {
    "name": "ipython",
    "version": 3
   },
   "file_extension": ".py",
   "mimetype": "text/x-python",
   "name": "python",
   "nbconvert_exporter": "python",
   "pygments_lexer": "ipython3",
   "version": "3.8.5"
  }
 },
 "nbformat": 4,
 "nbformat_minor": 4
}
